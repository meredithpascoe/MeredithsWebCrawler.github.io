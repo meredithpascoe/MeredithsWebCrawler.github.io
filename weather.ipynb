{
  "nbformat": 4,
  "nbformat_minor": 0,
  "metadata": {
    "colab": {
      "name": "weather.ipynb",
      "provenance": [],
      "collapsed_sections": []
    },
    "kernelspec": {
      "name": "python3",
      "display_name": "Python 3"
    },
    "language_info": {
      "name": "python"
    }
  },
  "cells": [
    {
      "cell_type": "code",
      "execution_count": null,
      "metadata": {
        "id": "5I72nU4m5kdv"
      },
      "outputs": [],
      "source": [
        "# Import Requests library \n",
        "import requests\n",
        "# Download webpage using requests.get\n",
        "page = requests.get(\"https://forecast.weather.gov/MapClick.php?lat=42.2408&lon=-83.6131#.YmF-q9PMKUk\")\n",
        "# Import BeautifulSoup library and create a class to parse the webpage\n",
        "from bs4 import BeautifulSoup\n",
        "soup = BeautifulSoup(page.content, 'html.parser')"
      ]
    },
    {
      "cell_type": "code",
      "source": [
        "# Capture all the extended forecast items \n",
        "seven_day = soup.find(id=\"seven-day-forecast\")\n",
        "forecast_items = seven_day.find_all(class_=\"tombstone-container\")\n"
      ],
      "metadata": {
        "id": "nG85DvyiLXZY"
      },
      "execution_count": null,
      "outputs": []
    },
    {
      "cell_type": "code",
      "source": [
        "# Find all the time period names used in the seven day forecast\n",
        "period_tags = seven_day.select(\".tombstone-container .period-name\")\n",
        "periods = [pt.get_text() for pt in period_tags]\n",
        "periods"
      ],
      "metadata": {
        "id": "10BbqBYg6_yt"
      },
      "execution_count": null,
      "outputs": []
    },
    {
      "cell_type": "code",
      "source": [
        "# Find the weather conditions summary, temperature, and and conditions description for the various time periods in the seven day forecast\n",
        "short_descs = [sd.get_text() for sd in seven_day.select(\".tombstone-container .short-desc\")]\n",
        "temps = [t.get_text() for t in seven_day.select(\".tombstone-container .temp\")]\n",
        "descs = [d[\"title\"] for d in seven_day.select(\".tombstone-container img\")]\n",
        "print(short_descs)\n",
        "print(temps)\n",
        "print(descs)"
      ],
      "metadata": {
        "id": "AQf-d_1y9BEg"
      },
      "execution_count": null,
      "outputs": []
    },
    {
      "cell_type": "code",
      "source": [
        "# Import Pandas library\n",
        "import pandas as pd\n",
        "#Add data to a Pandas DataFrame\n",
        "weather = pd.DataFrame({\n",
        "    \"period\": periods,\n",
        "    \"short_desc\": short_descs,\n",
        "    \"temp\": temps,\n",
        "    \"desc\":descs\n",
        "})\n",
        "weather"
      ],
      "metadata": {
        "id": "tRklGo-h9Uof"
      },
      "execution_count": null,
      "outputs": []
    },
    {
      "cell_type": "code",
      "source": [
        "# Create data on to Google Drive\n",
        "from google.colab import drive\n",
        "# Mount your Drive to the Colab VM.\n",
        "#drive._mount('/gdrive')\n",
        "drive.mount('/gdrive')\n",
        "\n",
        "# the file path where to store the output csv on google drive\n",
        "output_file = '/gdrive/My Drive/weather.csv'\n",
        "\n",
        "# Save the dataframe as a csv file\n",
        "weather.to_csv(output_file, index=False)"
      ],
      "metadata": {
        "id": "QTDKgzBa98-V"
      },
      "execution_count": null,
      "outputs": []
    },
    {
      "cell_type": "code",
      "source": [
        "from google.colab import files\n",
        "files.download(output_file)\n",
        "print(\"the csv has been downloaded to your local computer. The program has been completed successfully\")"
      ],
      "metadata": {
        "id": "a4NMR2Cf_CWb"
      },
      "execution_count": null,
      "outputs": []
    }
  ]
}